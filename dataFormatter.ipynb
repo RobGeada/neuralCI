{
 "cells": [
  {
   "cell_type": "markdown",
   "metadata": {},
   "source": [
    "# Data Formatter\n",
    "----\n",
    "In this notebook we'll process the raw CI log data into a format we can plug into the neural net. Specifically, we're going to take the various nested fields of the data, flatten it, map the dataset into a list of strings, and create a 35-dimensional vector representation of that list. We'll then pop those representations out into .npy files which the neural net notebook (neuralCI.ipynb) will be using. This notebook takes a little while to run (specifically, the dataset sampling section) but once it's run once, it shouldn't need to be run again."
   ]
  },
  {
   "cell_type": "markdown",
   "metadata": {},
   "source": [
    "## Imports and Spark Initialization"
   ]
  },
  {
   "cell_type": "code",
   "execution_count": 2,
   "metadata": {
    "collapsed": true
   },
   "outputs": [],
   "source": [
    "import os\n",
    "import numpy as np\n",
    "\n",
    "import pyspark\n",
    "from pyspark.context import SparkContext\n",
    "from pyspark.sql import SparkSession, SQLContext,Row\n",
    "\n",
    "spark = SparkSession.builder.master(\"local[*]\").getOrCreate()\n",
    "\n",
    "#stop weird parquet warns from cluttering logs\n",
    "logger = spark._jvm.org.apache.log4j\n",
    "logger.LogManager.getLogger(\"org\"). setLevel( logger.Level.ERROR )\n",
    "logger.LogManager.getLogger(\"akka\").setLevel( logger.Level.ERROR )"
   ]
  },
  {
   "cell_type": "markdown",
   "metadata": {},
   "source": [
    "## Load CI Data"
   ]
  },
  {
   "cell_type": "code",
   "execution_count": 3,
   "metadata": {
    "collapsed": false
   },
   "outputs": [],
   "source": [
    "cwd = os.getcwd()\n",
    "data = spark.read.parquet(\"{}/rhci-moby.parquet\".format(cwd))"
   ]
  },
  {
   "cell_type": "markdown",
   "metadata": {},
   "source": [
    "## Flatten Data\n",
    "The dataset comes with a very nested schema, which for our purposes is a hindrance. Let's flatten out the dataset. Annoyingly, there's no apparent built-in way to do this in Spark, so we have to write a bit of hacky code to do it. \n",
    "\n",
    "Spark lets you select and rename columns via:\n",
    "\n",
    "`df.select(df[n_1].alias(a_1),...,df[n_n].alias(a_n))`\n",
    "\n",
    "which means that we can select a nested field (say, a.b.c) and give it a top layer alias (a_b_c), it'll appear with other top layer fields. Therefore, if we can walk through the schema, find all subfields, give them top layer aliases, and then write some giant `select` statement to grab the 59 or so different fields, we can flatten our dataset.\n",
    "\n",
    "However, writing a giant select statement by hand isn't exactly an elegant solution, so I wrote code that writes said giant select statement for us."
   ]
  },
  {
   "cell_type": "code",
   "execution_count": 27,
   "metadata": {
    "collapsed": false
   },
   "outputs": [
    {
     "name": "stdout",
     "output_type": "stream",
     "text": [
      "[\"data['@timestamp'].alias('@timestamp')\", \"data['__label'].alias('__label')\", \"data['ci_agent.label'].alias('ci_agent_label')\", \"data['ci_agent.name'].alias('ci_agent_name')\", \"data['ci_job.build_id'].alias('ci_job_build_id')\", \"data['ci_job.full_url'].alias('ci_job_full_url')\", \"data['ci_job.log_url'].alias('ci_job_log_url')\", \"data['ci_job.name'].alias('ci_job_name')\", \"data['ci_job.phase'].alias('ci_job_phase')\", \"data['ci_job.status'].alias('ci_job_status')\", \"data['ci_master.hostname'].alias('ci_master_hostname')\", \"data['file'].alias('file')\", \"data['geoip.location.lat'].alias('geoip_location_lat')\", \"data['geoip.location.lon'].alias('geoip_location_lon')\", \"data['hostname'].alias('hostname')\", \"data['ipaddr4'].alias('ipaddr4')\", \"data['ipaddr6'].alias('ipaddr6')\", \"data['level'].alias('level')\", \"data['message'].alias('message')\", \"data['offset'].alias('offset')\", \"data['payload_type'].alias('payload_type')\", \"data['pid'].alias('pid')\", \"data['pipeline_metadata.@version'].alias('pipeline_metadata_@version')\", \"data['pipeline_metadata.collector.hostname'].alias('pipeline_metadata_collector_hostname')\", \"data['pipeline_metadata.collector.inputname'].alias('pipeline_metadata_collector_inputname')\", \"data['pipeline_metadata.collector.ipaddr4'].alias('pipeline_metadata_collector_ipaddr4')\", \"data['pipeline_metadata.collector.name'].alias('pipeline_metadata_collector_name')\", \"data['pipeline_metadata.collector.received_at'].alias('pipeline_metadata_collector_received_at')\", \"data['pipeline_metadata.normalizer.hostname'].alias('pipeline_metadata_normalizer_hostname')\", \"data['pipeline_metadata.normalizer.inputname'].alias('pipeline_metadata_normalizer_inputname')\", \"data['pipeline_metadata.normalizer.ipaddr4'].alias('pipeline_metadata_normalizer_ipaddr4')\", \"data['pipeline_metadata.normalizer.name'].alias('pipeline_metadata_normalizer_name')\", \"data['pipeline_metadata.normalizer.received_at'].alias('pipeline_metadata_normalizer_received_at')\", \"data['pipeline_metadata.original_raw_message'].alias('pipeline_metadata_original_raw_message')\", \"data['pipeline_metadata.trace'].alias('pipeline_metadata_trace')\", \"data['port'].alias('port')\", \"data['primary_change'].alias('primary_change')\", \"data['rhci.BKR_JOBID'].alias('rhci_BKR_JOBID')\", \"data['rhci.EXISTING_NODES'].alias('rhci_EXISTING_NODES')\", \"data['rhci.JSLAVELABEL'].alias('rhci_JSLAVELABEL')\", \"data['rhci.JSLAVENAME'].alias('rhci_JSLAVENAME')\", \"data['rhci.LABEL'].alias('rhci_LABEL')\", \"data['rhci.PRIVATE_IPS'].alias('rhci_PRIVATE_IPS')\", \"data['rhci.PROVISION_JOB'].alias('rhci_PROVISION_JOB')\", \"data['rhci.SITE'].alias('rhci_SITE')\", \"data['rhci.UUID'].alias('rhci_UUID')\", \"data['rhci.cleanup'].alias('rhci_cleanup')\", \"data['rhci.host_name'].alias('rhci_host_name')\", \"data['rhci.ise_ci_branch'].alias('rhci_ise_ci_branch')\", \"data['rhci.job_type'].alias('rhci_job_type')\", \"data['rhci.jobstartwait'].alias('rhci_jobstartwait')\", \"data['rhci.phase2_pipeline'].alias('rhci_phase2_pipeline')\", \"data['rhci.scenario_name'].alias('rhci_scenario_name')\", \"data['rhci.teardown'].alias('rhci_teardown')\", \"data['service'].alias('service')\", \"data['tags'].alias('tags')\", \"data['target_env'].alias('target_env')\", \"data['test_level'].alias('test_level')\", \"data['uuid'].alias('uuid')\"]\n"
     ]
    }
   ],
   "source": [
    "#create alias for schemas\n",
    "def addAlias(string):\n",
    "    labelString = string.replace(\".\",\"_\")\n",
    "    return \"data['{}'].alias('{}')\".format(string,labelString)\n",
    "\n",
    "#recursively walk through schema and flatten, assign aliases\n",
    "def flattenSchema(schema,label):\n",
    "    global selector\n",
    "    for field in schema:\n",
    "        if isinstance(field.dataType,pyspark.sql.types.StructType):\n",
    "            flattenSchema(field.dataType,label+field.name+\".\")\n",
    "        else:   \n",
    "            if field.name != None:\n",
    "                selector.append(addAlias(label+field.name))\n",
    "\n",
    "#using array of flat, aliased schemas, generate code that will flatten the dataframe\n",
    "def createFlatFunc():\n",
    "    global selector \n",
    "    selector = []\n",
    "    flattenSchema(data.schema,\"\")\n",
    "    flattener = \",\".join(selector)\n",
    "    return \"flatData = data.select({})\".format(flattener)\n",
    "\n",
    "#execute the generated code\n",
    "exec(createFlatFunc())"
   ]
  },
  {
   "cell_type": "markdown",
   "metadata": {},
   "source": [
    "## Sample the Dataset\n",
    "We don't need the full 220,000,000 points for our model. Let's shoot for ~100k points, 75k for training, 25k for testing. (Caching here takes a bit, but saves time later)"
   ]
  },
  {
   "cell_type": "code",
   "execution_count": 5,
   "metadata": {
    "collapsed": false
   },
   "outputs": [
    {
     "data": {
      "text/plain": [
       "100019"
      ]
     },
     "execution_count": 5,
     "metadata": {},
     "output_type": "execute_result"
    }
   ],
   "source": [
    "sampData = flatData.sample(False, 0.00045).cache()\n",
    "sampData.count()"
   ]
  },
  {
   "cell_type": "markdown",
   "metadata": {},
   "source": [
    "## Stringify Data\n",
    "The way we're going to attempt to model categorical data (i.e., almost all of the data) is by Word2Vec, so we need to turn each data point into a list of words. The simplest way to do this is to just cast each field of the data into string, but there's some unicode weirdness in the data, so we have to write function that's a bit more complex to do it."
   ]
  },
  {
   "cell_type": "code",
   "execution_count": 6,
   "metadata": {
    "collapsed": false
   },
   "outputs": [],
   "source": [
    "def unicodeToString(row):\n",
    "    ci_status = 1 if row[9]==\"SUCCESS\" else 0\n",
    "    sentence = []\n",
    "    for f,field in enumerate(row):\n",
    "        if f == 9:\n",
    "            continue\n",
    "        elif isinstance(field,list):\n",
    "            for item in field:\n",
    "                sentence.append(str(item))\n",
    "        else:\n",
    "            if type(field)==type(u'unicode'):\n",
    "                sentence.append(str(field.encode(\"utf8\")))\n",
    "            else:\n",
    "                sentence.append(str(field))\n",
    "    return Row(sentences=sentence,ci_status=ci_status)\n",
    "\n",
    "strData = spark.createDataFrame(sampData.rdd.map(lambda x: unicodeToString(x)))"
   ]
  },
  {
   "cell_type": "markdown",
   "metadata": {},
   "source": [
    "## Split Data into Training and Test Sets"
   ]
  },
  {
   "cell_type": "code",
   "execution_count": 7,
   "metadata": {
    "collapsed": false
   },
   "outputs": [
    {
     "data": {
      "text/plain": [
       "74961"
      ]
     },
     "execution_count": 7,
     "metadata": {},
     "output_type": "execute_result"
    }
   ],
   "source": [
    "train,valid = strData.randomSplit((.75,.25))\n",
    "train.count()"
   ]
  },
  {
   "cell_type": "markdown",
   "metadata": {},
   "source": [
    "## Create Word2Vec Representation of Data\n",
    "We want to make sure to train the word2Vec model on only the training data, obviously!"
   ]
  },
  {
   "cell_type": "code",
   "execution_count": 8,
   "metadata": {
    "collapsed": false
   },
   "outputs": [],
   "source": [
    "from pyspark.ml.feature import Word2Vec\n",
    "\n",
    "word2vec = Word2Vec(vectorSize=35, minCount=0,inputCol='sentences',outputCol='result')\n",
    "model = word2vec.fit(train)\n",
    "\n",
    "trainRes = model.transform(train)\n",
    "validRes = model.transform(valid)\n",
    "\n",
    "tVectors  = trainRes.collect()\n",
    "vVectors  = validRes.collect()"
   ]
  },
  {
   "cell_type": "markdown",
   "metadata": {
    "collapsed": true
   },
   "source": [
    "## Save and Write Vectors as Numpy Arrays"
   ]
  },
  {
   "cell_type": "code",
   "execution_count": 30,
   "metadata": {
    "collapsed": false
   },
   "outputs": [
    {
     "data": {
      "text/plain": [
       "(array([[-0.18946984, -0.23785067, -0.11499191, ..., -0.27119543,\n",
       "         -0.06544313, -0.18031824],\n",
       "        [-0.17551685, -0.23796774, -0.09862728, ..., -0.27467051,\n",
       "         -0.06229201, -0.18529017],\n",
       "        [-0.17930162, -0.23702078, -0.10352075, ..., -0.28103825,\n",
       "         -0.06863766, -0.16743859],\n",
       "        ..., \n",
       "        [-0.21213448, -0.20482012, -0.08226802, ..., -0.29655874,\n",
       "         -0.05118705, -0.16114787],\n",
       "        [-0.21120786, -0.20717621, -0.07814386, ..., -0.29926059,\n",
       "         -0.05289695, -0.15936702],\n",
       "        [-0.37408199, -0.28546104, -0.03341023, ..., -0.30052532,\n",
       "         -0.03687222, -0.10015753]]), array([0, 0, 0, ..., 1, 1, 1]))"
      ]
     },
     "execution_count": 30,
     "metadata": {},
     "output_type": "execute_result"
    }
   ],
   "source": [
    "import pickle\n",
    "\n",
    "def numpify(data,label):\n",
    "    status,sentences,vectors = zip(*data)\n",
    "    X,Y = np.array(vectors),np.array(status)\n",
    "    if label==\"v\":\n",
    "        #save log messages\n",
    "        f = open(cwd+\"/formattedData/validLogs.pkl\",\"w\")\n",
    "        pickle.dump(sentences,f)\n",
    "        \n",
    "        #save field names\n",
    "        fieldNames = []\n",
    "        for i in sampData.schema:\n",
    "            if i.name != \"ci_job_status\":\n",
    "                fieldNames.append(i.name)\n",
    "        f = open(cwd+\"/formattedData/fieldNames.pkl\",\"w\")\n",
    "        pickle.dump(fieldNames,f)\n",
    "        \n",
    "    np.save(cwd+\"/formattedData/\"+label+\"vectors.npy\",X)\n",
    "    np.save(cwd+\"/formattedData/\"+label+\"status.npy\",Y)\n",
    "    return X,Y\n",
    "\n",
    "numpify(tVectors,\"t\")\n",
    "numpify(vVectors,\"v\")"
   ]
  }
 ],
 "metadata": {
  "kernelspec": {
   "display_name": "Python 2",
   "language": "python",
   "name": "python2"
  },
  "language_info": {
   "codemirror_mode": {
    "name": "ipython",
    "version": 2
   },
   "file_extension": ".py",
   "mimetype": "text/x-python",
   "name": "python",
   "nbconvert_exporter": "python",
   "pygments_lexer": "ipython2",
   "version": "2.7.11"
  }
 },
 "nbformat": 4,
 "nbformat_minor": 0
}
